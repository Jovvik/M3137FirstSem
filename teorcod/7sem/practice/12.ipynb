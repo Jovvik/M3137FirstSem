{
 "cells": [
  {
   "cell_type": "code",
   "execution_count": 11,
   "metadata": {
    "vscode": {
     "languageId": "python"
    }
   },
   "outputs": [],
   "source": [
    "v = GF(13)"
   ]
  },
  {
   "cell_type": "code",
   "execution_count": 12,
   "metadata": {
    "vscode": {
     "languageId": "python"
    }
   },
   "outputs": [],
   "source": [
    "P.<x> = PolynomialRing(v)"
   ]
  },
  {
   "cell_type": "code",
   "execution_count": 13,
   "metadata": {
    "vscode": {
     "languageId": "python"
    }
   },
   "outputs": [
    {
     "data": {
      "text/plain": [
       "Univariate Polynomial Ring in x over Finite Field of size 13"
      ]
     },
     "execution_count": 13,
     "metadata": {},
     "output_type": "execute_result"
    }
   ],
   "source": [
    "P"
   ]
  },
  {
   "cell_type": "code",
   "execution_count": 16,
   "metadata": {
    "vscode": {
     "languageId": "python"
    }
   },
   "outputs": [
    {
     "data": {
      "text/plain": [
       "13"
      ]
     },
     "execution_count": 16,
     "metadata": {},
     "output_type": "execute_result"
    }
   ],
   "source": [
    "v.primitive_element().order()"
   ]
  },
  {
   "cell_type": "code",
   "execution_count": 19,
   "metadata": {
    "vscode": {
     "languageId": "python"
    }
   },
   "outputs": [
    {
     "name": "stdout",
     "output_type": "stream",
     "text": [
      "elem: 0\n",
      "powers: {0}\n",
      "elem: 1\n",
      "powers: {1}\n",
      "elem: 2\n",
      "powers: {1, 2, 3, 4, 5, 6, 7, 8, 9, 10, 11, 12}\n",
      "elem: 3\n",
      "powers: {9, 3, 1}\n",
      "elem: 4\n",
      "powers: {1, 3, 4, 9, 10, 12}\n",
      "elem: 5\n",
      "powers: {8, 1, 12, 5}\n",
      "elem: 6\n",
      "powers: {1, 2, 3, 4, 5, 6, 7, 8, 9, 10, 11, 12}\n",
      "elem: 7\n",
      "powers: {1, 2, 3, 4, 5, 6, 7, 8, 9, 10, 11, 12}\n",
      "elem: 8\n",
      "powers: {8, 1, 12, 5}\n",
      "elem: 9\n",
      "powers: {9, 3, 1}\n",
      "elem: 10\n",
      "powers: {1, 3, 4, 9, 10, 12}\n",
      "elem: 11\n",
      "powers: {1, 2, 3, 4, 5, 6, 7, 8, 9, 10, 11, 12}\n",
      "elem: 12\n",
      "powers: {1, 12}\n"
     ]
    }
   ],
   "source": [
    "for elem in v:\n",
    "    print(f\"elem: {elem}\")\n",
    "    print(f\"powers: {set(elem^i for i in range(1, 13))}\")"
   ]
  },
  {
   "cell_type": "code",
   "execution_count": 20,
   "metadata": {
    "vscode": {
     "languageId": "python"
    }
   },
   "outputs": [],
   "source": [
    "delta = 7\n",
    "b = 3"
   ]
  },
  {
   "cell_type": "code",
   "execution_count": 24,
   "metadata": {
    "vscode": {
     "languageId": "python"
    }
   },
   "outputs": [
    {
     "data": {
      "text/plain": [
       "x^6 + 3*x^5 + 11*x^4 + 9*x^3 + 12*x^2 + 4*x + 5"
      ]
     },
     "execution_count": 24,
     "metadata": {},
     "output_type": "execute_result"
    }
   ],
   "source": [
    "primitive_element = 2\n",
    "gen_poly = prod((x - primitive_element ** i) for i in range(b, b + delta - 1))\n",
    "gen_poly"
   ]
  },
  {
   "cell_type": "code",
   "execution_count": 26,
   "metadata": {
    "vscode": {
     "languageId": "python"
    }
   },
   "outputs": [],
   "source": [
    "# выход канала \n",
    "y = 6 * x^11 + x^10 + 2*x^8 + x^7 + 4*x^6 + 5*x^5 + 4*x^4 + 2*x^3 + 10*x^2 + 12*x + 7"
   ]
  },
  {
   "cell_type": "code",
   "execution_count": 27,
   "metadata": {
    "vscode": {
     "languageId": "python"
    }
   },
   "outputs": [
    {
     "data": {
      "text/plain": [
       "3"
      ]
     },
     "execution_count": 27,
     "metadata": {},
     "output_type": "execute_result"
    }
   ],
   "source": [
    "tau = (delta - 1) / 2\n",
    "tau"
   ]
  },
  {
   "cell_type": "code",
   "execution_count": 44,
   "metadata": {
    "vscode": {
     "languageId": "python"
    }
   },
   "outputs": [],
   "source": [
    "rs = []\n",
    "rs.append(x ^ (2 * tau))"
   ]
  },
  {
   "cell_type": "code",
   "execution_count": 45,
   "metadata": {
    "vscode": {
     "languageId": "python"
    }
   },
   "outputs": [
    {
     "data": {
      "text/plain": [
       "10*x^5 + 12*x^4 + 2*x^3 + 8*x^2 + x + 10"
      ]
     },
     "execution_count": 45,
     "metadata": {},
     "output_type": "execute_result"
    }
   ],
   "source": [
    "S = sum(y(primitive_element ** (b + i)) * x ^ i for i in range(0, delta - 1))\n",
    "S"
   ]
  },
  {
   "cell_type": "code",
   "execution_count": 46,
   "metadata": {
    "vscode": {
     "languageId": "python"
    }
   },
   "outputs": [
    {
     "data": {
      "text/plain": [
       "[x^6, 10*x^5 + 12*x^4 + 2*x^3 + 8*x^2 + x + 10]"
      ]
     },
     "execution_count": 46,
     "metadata": {},
     "output_type": "execute_result"
    }
   ],
   "source": [
    "rs.append(S)\n",
    "rs"
   ]
  },
  {
   "cell_type": "code",
   "execution_count": 47,
   "metadata": {
    "vscode": {
     "languageId": "python"
    }
   },
   "outputs": [],
   "source": [
    "qs = []"
   ]
  },
  {
   "cell_type": "code",
   "execution_count": 48,
   "metadata": {
    "vscode": {
     "languageId": "python"
    }
   },
   "outputs": [],
   "source": [
    "q, new_r = rs[-2].quo_rem(rs[-1])\n",
    "rs.append(new_r)\n",
    "qs.append(q)\n",
    "rs"
   ]
  },
  {
   "cell_type": "code",
   "execution_count": 49,
   "metadata": {
    "vscode": {
     "languageId": "python"
    }
   },
   "outputs": [
    {
     "data": {
      "text/plain": [
       "[x^6,\n",
       " 10*x^5 + 12*x^4 + 2*x^3 + 8*x^2 + x + 10,\n",
       " 8*x^4 + x^3 + 11*x^2 + 9*x + 9,\n",
       " 6*x^3 + 10*x^2 + 4]"
      ]
     },
     "execution_count": 49,
     "metadata": {},
     "output_type": "execute_result"
    }
   ],
   "source": [
    "q, new_r = rs[-2].quo_rem(rs[-1])\n",
    "rs.append(new_r)\n",
    "qs.append(q)\n",
    "rs"
   ]
  },
  {
   "cell_type": "code",
   "execution_count": 50,
   "metadata": {
    "vscode": {
     "languageId": "python"
    }
   },
   "outputs": [
    {
     "data": {
      "text/plain": [
       "[x^6,\n",
       " 10*x^5 + 12*x^4 + 2*x^3 + 8*x^2 + x + 10,\n",
       " 8*x^4 + x^3 + 11*x^2 + 9*x + 9,\n",
       " 6*x^3 + 10*x^2 + 4,\n",
       " 7*x^2 + 8*x + 10]"
      ]
     },
     "execution_count": 50,
     "metadata": {},
     "output_type": "execute_result"
    }
   ],
   "source": [
    "q, new_r = rs[-2].quo_rem(rs[-1])\n",
    "rs.append(new_r)\n",
    "qs.append(q)\n",
    "rs"
   ]
  },
  {
   "cell_type": "code",
   "execution_count": 51,
   "metadata": {
    "vscode": {
     "languageId": "python"
    }
   },
   "outputs": [
    {
     "data": {
      "text/plain": [
       "[4*x + 3, 11*x + 5, 10*x + 3]"
      ]
     },
     "execution_count": 51,
     "metadata": {},
     "output_type": "execute_result"
    }
   ],
   "source": [
    "qs"
   ]
  },
  {
   "cell_type": "code",
   "execution_count": 53,
   "metadata": {
    "vscode": {
     "languageId": "python"
    }
   },
   "outputs": [
    {
     "data": {
      "text/plain": [
       "[2*x^3 + x^2 + 2*x + 1         5*x^2 + x + 3]\n",
       "[      6*x^2 + 5*x + 3               2*x + 8]"
      ]
     },
     "execution_count": 53,
     "metadata": {},
     "output_type": "execute_result"
    }
   ],
   "source": [
    "U = prod(matrix([[-q, 1], [1, 0]]) for q in qs)\n",
    "U"
   ]
  },
  {
   "cell_type": "code",
   "execution_count": 55,
   "metadata": {
    "vscode": {
     "languageId": "python"
    }
   },
   "outputs": [
    {
     "data": {
      "text/plain": [
       "2*x^3 + x^2 + 2*x + 1"
      ]
     },
     "execution_count": 55,
     "metadata": {},
     "output_type": "execute_result"
    }
   ],
   "source": [
    "L = U[0, 0]\n",
    "L"
   ]
  },
  {
   "cell_type": "code",
   "execution_count": 57,
   "metadata": {
    "vscode": {
     "languageId": "python"
    }
   },
   "outputs": [
    {
     "data": {
      "text/plain": [
       "[(8, 1), (6, 1), (5, 1)]"
      ]
     },
     "execution_count": 57,
     "metadata": {},
     "output_type": "execute_result"
    }
   ],
   "source": [
    "L.roots()"
   ]
  },
  {
   "cell_type": "code",
   "execution_count": 78,
   "metadata": {
    "vscode": {
     "languageId": "python"
    }
   },
   "outputs": [
    {
     "name": "stdout",
     "output_type": "stream",
     "text": [
      "Error at position 9\n",
      "Error at position 7\n",
      "Error at position 3\n"
     ]
    }
   ],
   "source": [
    "for (root, _) in L.roots():\n",
    "    t = mod(root^(-1), 13)\n",
    "    print(f\"Error at position {discrete_log(v.gen() * t, v.gen() * 2)}\")"
   ]
  },
  {
   "cell_type": "code",
   "execution_count": 79,
   "metadata": {
    "vscode": {
     "languageId": "python"
    }
   },
   "outputs": [
    {
     "data": {
      "text/plain": [
       "6*x^2 + 2*x + 2"
      ]
     },
     "execution_count": 79,
     "metadata": {},
     "output_type": "execute_result"
    }
   ],
   "source": [
    "L.derivative()"
   ]
  },
  {
   "cell_type": "code",
   "execution_count": 81,
   "metadata": {
    "vscode": {
     "languageId": "python"
    }
   },
   "outputs": [
    {
     "data": {
      "text/plain": [
       "7*x^2 + 8*x + 10"
      ]
     },
     "execution_count": 81,
     "metadata": {},
     "output_type": "execute_result"
    }
   ],
   "source": [
    "Gamma = rs[-1]\n",
    "Gamma"
   ]
  },
  {
   "cell_type": "code",
   "execution_count": null,
   "metadata": {
    "vscode": {
     "languageId": "plaintext"
    }
   },
   "outputs": [],
   "source": [
    "Дальше мы делаем Форни"
   ]
  },
  {
   "cell_type": "code",
   "execution_count": 84,
   "metadata": {
    "vscode": {
     "languageId": "python"
    }
   },
   "outputs": [
    {
     "name": "stdout",
     "output_type": "stream",
     "text": [
      "E_i: 11\n",
      "E_i: 8\n",
      "E_i: 5\n"
     ]
    }
   ],
   "source": [
    "for (root, _) in L.roots():\n",
    "    X = root^(-1)\n",
    "    print(f\"E_i: {-X^(1 - b) * Gamma(X^(-1)) / L.derivative()(X^(-1))}\")"
   ]
  },
  {
   "cell_type": "code",
   "execution_count": null,
   "metadata": {
    "vscode": {
     "languageId": "python"
    }
   },
   "outputs": [],
   "source": [
    "# Берлекэмп-Месси"
   ]
  },
  {
   "cell_type": "code",
   "execution_count": 136,
   "metadata": {
    "vscode": {
     "languageId": "python"
    }
   },
   "outputs": [],
   "source": [
    "Lambda = x^0 * v.gen()\n",
    "r = 1\n",
    "m = 0\n",
    "L = 0\n",
    "B = x^0 * v.gen()"
   ]
  },
  {
   "cell_type": "code",
   "execution_count": 137,
   "metadata": {
    "vscode": {
     "languageId": "python"
    }
   },
   "outputs": [],
   "source": [
    "while r <= delta - 1:\n",
    "    Delta_r = 0\n",
    "    for j in range(0, min(L+1, Lambda.degree()+1)):\n",
    "        Delta_r += Lambda.list()[j] * S.list()[r - 1 - j]\n",
    "    if Delta_r == 0:\n",
    "        r += 1\n",
    "        continue\n",
    "    T = Lambda - Delta_r * x^(r-m) * B\n",
    "    if 2 * L > r - 1:\n",
    "        Lambda = T\n",
    "    else:\n",
    "        B = Lambda / Delta_r\n",
    "        Lambda = T\n",
    "        L = r - L\n",
    "        m = r\n",
    "    r += 1"
   ]
  },
  {
   "cell_type": "code",
   "execution_count": 139,
   "metadata": {
    "vscode": {
     "languageId": "python"
    }
   },
   "outputs": [
    {
     "data": {
      "text/plain": [
       "2*x^3 + x^2 + 2*x + 1"
      ]
     },
     "execution_count": 139,
     "metadata": {},
     "output_type": "execute_result"
    }
   ],
   "source": [
    "Lambda"
   ]
  },
  {
   "cell_type": "code",
   "execution_count": 140,
   "metadata": {
    "vscode": {
     "languageId": "python"
    }
   },
   "outputs": [
    {
     "name": "stdout",
     "output_type": "stream",
     "text": [
      "\u001b[0;31mDocstring:\u001b[0m     \n",
      "   Return the coefficients of the monomials appearing in self. If\n",
      "   \"sparse=True\" (the default), it returns only the non-zero\n",
      "   coefficients. Otherwise, it returns the same value as\n",
      "   \"self.list()\". (In this case, it may be slightly faster to invoke\n",
      "   \"self.list()\" directly.)\n",
      "\n",
      "   EXAMPLES:\n",
      "\n",
      "      sage: _.<x> = PolynomialRing(ZZ)\n",
      "      sage: f = x^4+2*x^2+1\n",
      "      sage: f.coefficients()\n",
      "      [1, 2, 1]\n",
      "      sage: f.coefficients(sparse=False)\n",
      "      [1, 0, 2, 0, 1]\n",
      "\u001b[0;31mInit docstring:\u001b[0m Initialize self.  See help(type(self)) for accurate signature.\n",
      "\u001b[0;31mFile:\u001b[0m           /usr/lib/python3.10/site-packages/sage/rings/polynomial/polynomial_element.pyx\n",
      "\u001b[0;31mType:\u001b[0m           builtin_function_or_method\n"
     ]
    }
   ],
   "source": [
    "S.coefficients?"
   ]
  },
  {
   "cell_type": "code",
   "execution_count": null,
   "metadata": {
    "vscode": {
     "languageId": "python"
    }
   },
   "outputs": [],
   "source": []
  }
 ],
 "metadata": {
  "kernelspec": {
   "display_name": "SageMath 9.7",
   "language": "sage",
   "name": "sagemath"
  },
  "language_info": {
   "codemirror_mode": {
    "name": "ipython",
    "version": 3
   },
   "file_extension": ".py",
   "mimetype": "text/x-python",
   "name": "sage",
   "nbconvert_exporter": "python",
   "pygments_lexer": "ipython3",
   "version": "3.10.7"
  },
  "orig_nbformat": 4,
  "vscode": {
   "interpreter": {
    "hash": "e7370f93d1d0cde622a1f8e1c04877d8463912d04d973331ad4851f04de6915a"
   }
  }
 },
 "nbformat": 4,
 "nbformat_minor": 2
}
