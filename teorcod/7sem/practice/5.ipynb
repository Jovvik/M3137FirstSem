{
 "cells": [
  {
   "cell_type": "code",
   "execution_count": 2,
   "metadata": {},
   "outputs": [
    {
     "data": {
      "text/plain": [
       "D"
      ]
     },
     "execution_count": 2,
     "metadata": {},
     "output_type": "execute_result"
    }
   ],
   "source": [
    "var('D')"
   ]
  },
  {
   "cell_type": "code",
   "execution_count": 7,
   "metadata": {},
   "outputs": [],
   "source": []
  },
  {
   "cell_type": "code",
   "execution_count": 9,
   "metadata": {},
   "outputs": [],
   "source": [
    "A = Matrix([\n",
    "   # 0    1   2  3  4  5  6  7 \n",
    "    [1,-D**2, 0, 0, 0, 0, 0, 0],\n",
    "    [0,1,-D,-D,0,0,0,0],\n",
    "    [0,0,1,0,-D,-D,0,0],\n",
    "    [0,0,0,1,0,0,-D**2,-1],\n",
    "    [0,-1,0,0,1,0,0,0],\n",
    "    [0,0,-D,-D,0,1,0,0],\n",
    "    [0,0,0,0,-D,-D,1,0],\n",
    "    [0,0,0,0,0,0,-1,1-D**2]\n",
    "])"
   ]
  },
  {
   "cell_type": "code",
   "execution_count": 10,
   "metadata": {},
   "outputs": [],
   "source": [
    "b = vector([0, 0, 0,0,D**2,0,0,0])"
   ]
  },
  {
   "cell_type": "code",
   "execution_count": 11,
   "metadata": {},
   "outputs": [],
   "source": [
    "# solve Ax = b\n",
    "x = A.solve_right(b) "
   ]
  },
  {
   "cell_type": "code",
   "execution_count": 14,
   "metadata": {},
   "outputs": [],
   "source": [
    "sol = x[0].simplify_full()"
   ]
  },
  {
   "cell_type": "code",
   "execution_count": 15,
   "metadata": {},
   "outputs": [
    {
     "data": {
      "text/plain": [
       "405063317*D^30 + 82375383*D^28 + 16752205*D^26 + 3406799*D^24 + 692821*D^22 + 140895*D^20 + 28653*D^18 + 5827*D^16 + 1185*D^14 + 241*D^12 + 49*D^10 + 10*D^8 + 2*D^6"
      ]
     },
     "execution_count": 15,
     "metadata": {},
     "output_type": "execute_result"
    }
   ],
   "source": [
    "taylor(sol, D, 0, 30)"
   ]
  },
  {
   "cell_type": "code",
   "execution_count": null,
   "metadata": {},
   "outputs": [],
   "source": []
  }
 ],
 "metadata": {
  "kernelspec": {
   "display_name": "SageMath 9.7",
   "language": "sage",
   "name": "sagemath"
  },
  "language_info": {
   "codemirror_mode": {
    "name": "ipython",
    "version": 3
   },
   "file_extension": ".py",
   "mimetype": "text/x-python",
   "name": "python",
   "nbconvert_exporter": "python",
   "pygments_lexer": "ipython3",
   "version": "3.10.7"
  },
  "orig_nbformat": 4
 },
 "nbformat": 4,
 "nbformat_minor": 2
}
